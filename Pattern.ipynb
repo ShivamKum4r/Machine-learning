{
  "nbformat": 4,
  "nbformat_minor": 0,
  "metadata": {
    "colab": {
      "provenance": [],
      "authorship_tag": "ABX9TyN5L+ix59b41ZH9vKyDJmSQ",
      "include_colab_link": true
    },
    "kernelspec": {
      "name": "python3",
      "display_name": "Python 3"
    },
    "language_info": {
      "name": "python"
    }
  },
  "cells": [
    {
      "cell_type": "markdown",
      "metadata": {
        "id": "view-in-github",
        "colab_type": "text"
      },
      "source": [
        "<a href=\"https://colab.research.google.com/github/ShivamKum4r/Machine-learning/blob/main/Pattern.ipynb\" target=\"_parent\"><img src=\"https://colab.research.google.com/assets/colab-badge.svg\" alt=\"Open In Colab\"/></a>"
      ]
    },
    {
      "cell_type": "code",
      "execution_count": 1,
      "metadata": {
        "colab": {
          "base_uri": "https://localhost:8080/"
        },
        "id": "CcD1Cpwcp4Ty",
        "outputId": "a2cf7606-de94-4234-9313-eafaf6a8f616"
      },
      "outputs": [
        {
          "output_type": "stream",
          "name": "stdout",
          "text": [
            "    *\n",
            "   **\n",
            "  ***\n",
            " ****\n",
            "*****\n"
          ]
        }
      ],
      "source": [
        "for i in range(1,6):\n",
        "  print(\" \"*(5-i)+\"*\"*i)"
      ]
    },
    {
      "cell_type": "code",
      "source": [
        "for i in range(1,6):\n",
        "  print(\" \"*(5-i)+\"*\"*(2*i-1))"
      ],
      "metadata": {
        "colab": {
          "base_uri": "https://localhost:8080/"
        },
        "id": "5VQyNU5JrKpe",
        "outputId": "dc562c93-0a26-4f73-ddc9-d0fca7898c17"
      },
      "execution_count": 3,
      "outputs": [
        {
          "output_type": "stream",
          "name": "stdout",
          "text": [
            "    *\n",
            "   ***\n",
            "  *****\n",
            " *******\n",
            "*********\n"
          ]
        }
      ]
    },
    {
      "cell_type": "code",
      "source": [
        "for i in range(1,10):\n",
        "  if i<6:\n",
        "    print(\" \"*(5-i)+\"*\"*i)\n",
        "  else:\n",
        "    print(\" \"*(i-5)+\"*\"*(10-i))"
      ],
      "metadata": {
        "colab": {
          "base_uri": "https://localhost:8080/"
        },
        "id": "FTPo9fzEsgF5",
        "outputId": "2b8621b0-0107-4159-da85-5abc4d5b1b9a"
      },
      "execution_count": 4,
      "outputs": [
        {
          "output_type": "stream",
          "name": "stdout",
          "text": [
            "    *\n",
            "   **\n",
            "  ***\n",
            " ****\n",
            "*****\n",
            " ****\n",
            "  ***\n",
            "   **\n",
            "    *\n"
          ]
        }
      ]
    },
    {
      "cell_type": "code",
      "source": [
        "a=\"12345\"\n",
        "for i in range(1,6):\n",
        "  print(\" \"*(5-i),a[:i])"
      ],
      "metadata": {
        "colab": {
          "base_uri": "https://localhost:8080/"
        },
        "id": "JhGK_yRYw3_o",
        "outputId": "24d76a35-5065-4ff3-9ed0-ceb82226150d"
      },
      "execution_count": 5,
      "outputs": [
        {
          "output_type": "stream",
          "name": "stdout",
          "text": [
            "     1\n",
            "    12\n",
            "   123\n",
            "  1234\n",
            " 12345\n"
          ]
        }
      ]
    },
    {
      "cell_type": "code",
      "source": [
        "a=1\n",
        "for i in range(1,6):\n",
        "  print(\" \"*(5-i),(a*a))\n",
        "  a=a*10+1"
      ],
      "metadata": {
        "colab": {
          "base_uri": "https://localhost:8080/"
        },
        "id": "UWDCKzJ5yAYM",
        "outputId": "6dcfab32-8f25-469f-f804-41f146b9ddd8"
      },
      "execution_count": 6,
      "outputs": [
        {
          "output_type": "stream",
          "name": "stdout",
          "text": [
            "     1\n",
            "    121\n",
            "   12321\n",
            "  1234321\n",
            " 123454321\n"
          ]
        }
      ]
    },
    {
      "cell_type": "code",
      "source": [
        "a=1\n",
        "for i in range(1,6):\n",
        "  print(\" \"*(5-i),(a*a))\n",
        "  a=i*10+1"
      ],
      "metadata": {
        "colab": {
          "base_uri": "https://localhost:8080/"
        },
        "id": "aQ_v2a2K1XRz",
        "outputId": "8fef5bd9-9cf1-4128-93c9-0e6fa36ccffd"
      },
      "execution_count": 7,
      "outputs": [
        {
          "output_type": "stream",
          "name": "stdout",
          "text": [
            "     1\n",
            "    121\n",
            "   441\n",
            "  961\n",
            " 1681\n"
          ]
        }
      ]
    },
    {
      "cell_type": "code",
      "source": [
        "def sum(*t):\n",
        "  print(type(t))\n",
        "sum()"
      ],
      "metadata": {
        "id": "aWjPi2pS799M",
        "colab": {
          "base_uri": "https://localhost:8080/"
        },
        "outputId": "0c7f3328-be5b-4074-fad4-4171bd24a035"
      },
      "execution_count": 8,
      "outputs": [
        {
          "output_type": "stream",
          "name": "stdout",
          "text": [
            "<class 'tuple'>\n"
          ]
        }
      ]
    },
    {
      "cell_type": "code",
      "source": [
        "def sum(*t):\n",
        "  s=0\n",
        "  for i in t:\n",
        "    s+=i\n",
        "  print(s)\n",
        "sum(1,2)"
      ],
      "metadata": {
        "colab": {
          "base_uri": "https://localhost:8080/"
        },
        "id": "0yAkxNnpYV4u",
        "outputId": "9f6f7ae7-2c40-4832-b917-f742bd20c805"
      },
      "execution_count": 9,
      "outputs": [
        {
          "output_type": "stream",
          "name": "stdout",
          "text": [
            "3\n"
          ]
        }
      ]
    },
    {
      "cell_type": "code",
      "source": [
        "def oddeven(*t):\n",
        "  odd=0\n",
        "  even=0\n",
        "  for i in t:\n",
        "    if i%2==0:\n",
        "      even+=1\n",
        "    else:\n",
        "      odd+=1\n",
        "  print(\"odd\",odd)\n",
        "  print(\"even\",even)\n",
        "oddeven(1,2,3,4,5,6,7,8,9)\n",
        "\n"
      ],
      "metadata": {
        "colab": {
          "base_uri": "https://localhost:8080/"
        },
        "id": "G2EYRobfZlln",
        "outputId": "4e435e33-8607-4f0c-be83-b69cb2ee7c92"
      },
      "execution_count": 10,
      "outputs": [
        {
          "output_type": "stream",
          "name": "stdout",
          "text": [
            "odd 5\n",
            "even 4\n"
          ]
        }
      ]
    },
    {
      "cell_type": "code",
      "source": [
        "def factorial(*t):\n",
        "  for i in t:\n",
        "    f=1\n",
        "    for j in range(1,i+1):\n",
        "      f=f*j\n",
        "    print(f)\n",
        "factorial(1,2,3,4,5)\n"
      ],
      "metadata": {
        "colab": {
          "base_uri": "https://localhost:8080/"
        },
        "id": "yyhA_8HZbYa3",
        "outputId": "f8f99ac0-9574-45c7-8b23-2314da50d55e"
      },
      "execution_count": 11,
      "outputs": [
        {
          "output_type": "stream",
          "name": "stdout",
          "text": [
            "1\n",
            "2\n",
            "6\n",
            "24\n",
            "120\n"
          ]
        }
      ]
    },
    {
      "cell_type": "code",
      "source": [
        "t=()\n",
        "for i in range(5):\n",
        "  x=int(input())\n",
        "  t+=(x,)\n",
        "print(t)"
      ],
      "metadata": {
        "colab": {
          "base_uri": "https://localhost:8080/"
        },
        "id": "p7j5ZAwtfKmb",
        "outputId": "f705cc1c-4c6b-4bb3-c67f-2a9d11b69d05"
      },
      "execution_count": 13,
      "outputs": [
        {
          "output_type": "stream",
          "name": "stdout",
          "text": [
            "5\n",
            "4\n",
            "5\n",
            "7\n",
            "7\n",
            "(5, 4, 5, 7, 7)\n"
          ]
        }
      ]
    },
    {
      "cell_type": "code",
      "source": [
        "[(x,y) for i in [1,2,3] for y in [3,1,4] if x!=y]"
      ],
      "metadata": {
        "colab": {
          "base_uri": "https://localhost:8080/"
        },
        "id": "tVF76S7cmDHb",
        "outputId": "50f07911-0702-45d9-aef2-b2fe2757f50c"
      },
      "execution_count": 14,
      "outputs": [
        {
          "output_type": "execute_result",
          "data": {
            "text/plain": [
              "[(7, 3), (7, 1), (7, 4), (7, 3), (7, 1), (7, 4), (7, 3), (7, 1), (7, 4)]"
            ]
          },
          "metadata": {},
          "execution_count": 14
        }
      ]
    },
    {
      "cell_type": "code",
      "source": [
        "list1 =[1,2,3,5,4,3,3,4,2]\n",
        "print(list(set(list1)))"
      ],
      "metadata": {
        "colab": {
          "base_uri": "https://localhost:8080/"
        },
        "id": "3xkqa-7xpIcr",
        "outputId": "f5e12b0f-681d-4ae0-abc6-0ee55eac795d"
      },
      "execution_count": 15,
      "outputs": [
        {
          "output_type": "stream",
          "name": "stdout",
          "text": [
            "[1, 2, 3, 4, 5]\n"
          ]
        }
      ]
    },
    {
      "cell_type": "code",
      "source": [
        "list1 =[1,2,3,5,4,3,3,4,2]\n",
        "print(list(set(list1)))"
      ],
      "metadata": {
        "colab": {
          "base_uri": "https://localhost:8080/"
        },
        "id": "TCcN2ZL1tLsj",
        "outputId": "9aa991ba-8c03-45cf-9ff6-7f573860fe15"
      },
      "execution_count": 16,
      "outputs": [
        {
          "output_type": "stream",
          "name": "stdout",
          "text": [
            "[1, 2, 3, 4, 5]\n"
          ]
        }
      ]
    },
    {
      "cell_type": "code",
      "source": [
        "def remove(list1):\n",
        "  list2=[]\n",
        "  for i in list1:\n",
        "    if i not in list2:\n",
        "      list2.append(i)\n",
        "    return list2\n",
        "list1=[1,2,3,4,3,2,1]\n",
        "print(remove(list1))\n"
      ],
      "metadata": {
        "colab": {
          "base_uri": "https://localhost:8080/"
        },
        "id": "vAXXHrgbuTqK",
        "outputId": "9886908f-dedd-4ec4-e89a-c0406e9a490a"
      },
      "execution_count": 17,
      "outputs": [
        {
          "output_type": "stream",
          "name": "stdout",
          "text": [
            "[1]\n"
          ]
        }
      ]
    },
    {
      "cell_type": "code",
      "source": [
        "def highest3value(dict):\n",
        "  list1=[]\n",
        "  for i in dict.values():\n",
        "    list1.append(i)\n",
        "  list1.sort()\n",
        "  print(list1[-1])\n",
        "  print(list1[-2])\n",
        "  print(list1[-3])\n",
        "\n",
        "dict={\"a\":1,\"b\":2,\"c\":6,\"d\":4,\"e\":5}\n",
        "highest3value(dict)"
      ],
      "metadata": {
        "colab": {
          "base_uri": "https://localhost:8080/"
        },
        "id": "4HFjjgBhwl9X",
        "outputId": "e0260916-31b2-4453-dc7b-133c6b4f2b57"
      },
      "execution_count": 18,
      "outputs": [
        {
          "output_type": "stream",
          "name": "stdout",
          "text": [
            "6\n",
            "5\n",
            "4\n"
          ]
        }
      ]
    },
    {
      "cell_type": "code",
      "source": [
        "def reversetuple(t):\n",
        "  t1=()\n",
        "  for i in t[::-1]:\n",
        "    t1+=(i,)\n",
        "  print(t1)\n",
        "t=(1,2,3,4,5)\n",
        "reversetuple(t)\n"
      ],
      "metadata": {
        "colab": {
          "base_uri": "https://localhost:8080/"
        },
        "id": "1hhqePu-xU6A",
        "outputId": "a457883f-bd90-48ce-f2b1-fd6738edd3d5"
      },
      "execution_count": 19,
      "outputs": [
        {
          "output_type": "stream",
          "name": "stdout",
          "text": [
            "(5, 4, 3, 2, 1)\n"
          ]
        }
      ]
    },
    {
      "cell_type": "code",
      "source": [
        "def Comprehensionfibonacci(t):\n",
        "  t1=()\n",
        "  for i in range(t):\n",
        "    if i==0 or i==1:\n",
        "      t1+=(i,)\n",
        "    else:\n",
        "      t1+=(t1[i-2]+t1[i-1],)\n",
        "  print(t1)\n",
        "Comprehensionfibonacci(10)"
      ],
      "metadata": {
        "colab": {
          "base_uri": "https://localhost:8080/"
        },
        "id": "gK7M0aFbzx9s",
        "outputId": "93f6e620-e063-48c2-c719-d09ca5417a4a"
      },
      "execution_count": 20,
      "outputs": [
        {
          "output_type": "stream",
          "name": "stdout",
          "text": [
            "(0, 1, 1, 2, 3, 5, 8, 13, 21, 34)\n"
          ]
        }
      ]
    },
    {
      "cell_type": "code",
      "source": [
        "a= [0,1]\n",
        "[a.append(a[-1]+a[-2]) for i in range(9)]\n",
        "print(a)"
      ],
      "metadata": {
        "colab": {
          "base_uri": "https://localhost:8080/"
        },
        "id": "dAgKwoUq2JJl",
        "outputId": "71f14b7c-8592-4088-fdf8-d4a45a52ada7"
      },
      "execution_count": 21,
      "outputs": [
        {
          "output_type": "stream",
          "name": "stdout",
          "text": [
            "[0, 1, 1, 2, 3, 5, 8, 13, 21, 34, 55]\n"
          ]
        }
      ]
    },
    {
      "cell_type": "code",
      "source": [
        "[i for i in range(1,11) if i%2!=0]\n"
      ],
      "metadata": {
        "id": "BREJeUEH2dD8",
        "colab": {
          "base_uri": "https://localhost:8080/"
        },
        "outputId": "8073e26f-17f7-4cd4-b7e3-c6c578232d69"
      },
      "execution_count": 22,
      "outputs": [
        {
          "output_type": "execute_result",
          "data": {
            "text/plain": [
              "[1, 3, 5, 7, 9]"
            ]
          },
          "metadata": {},
          "execution_count": 22
        }
      ]
    }
  ]
}