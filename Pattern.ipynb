{
  "nbformat": 4,
  "nbformat_minor": 0,
  "metadata": {
    "colab": {
      "provenance": [],
      "authorship_tag": "ABX9TyNbSSuh+96h8lhXRKhf9hyt",
      "include_colab_link": true
    },
    "kernelspec": {
      "name": "python3",
      "display_name": "Python 3"
    },
    "language_info": {
      "name": "python"
    }
  },
  "cells": [
    {
      "cell_type": "markdown",
      "metadata": {
        "id": "view-in-github",
        "colab_type": "text"
      },
      "source": [
        "<a href=\"https://colab.research.google.com/github/ShivamKum4r/Machine-learning/blob/main/Pattern.ipynb\" target=\"_parent\"><img src=\"https://colab.research.google.com/assets/colab-badge.svg\" alt=\"Open In Colab\"/></a>"
      ]
    },
    {
      "cell_type": "code",
      "execution_count": null,
      "metadata": {
        "colab": {
          "base_uri": "https://localhost:8080/"
        },
        "id": "CcD1Cpwcp4Ty",
        "outputId": "d569b63c-25c2-4f50-8918-c944b4605487"
      },
      "outputs": [
        {
          "output_type": "stream",
          "name": "stdout",
          "text": [
            "    *\n",
            "   **\n",
            "  ***\n",
            " ****\n",
            "*****\n"
          ]
        }
      ],
      "source": [
        "for i in range(1,6):\n",
        "  print(\" \"*(5-i)+\"*\"*i)"
      ]
    },
    {
      "cell_type": "code",
      "source": [
        "for i in range(1,6):\n",
        "  print(\" \"*(5-i)+\"*\"*(2*i-1))"
      ],
      "metadata": {
        "colab": {
          "base_uri": "https://localhost:8080/"
        },
        "id": "5VQyNU5JrKpe",
        "outputId": "c63782d5-0216-496f-ef33-033487221976"
      },
      "execution_count": null,
      "outputs": [
        {
          "output_type": "stream",
          "name": "stdout",
          "text": [
            "    *\n",
            "   ***\n",
            "  *****\n",
            " *******\n",
            "*********\n"
          ]
        }
      ]
    },
    {
      "cell_type": "code",
      "source": [
        "for i in range(1,10):\n",
        "  if i<6:\n",
        "    print(\" \"*(5-i)+\"*\"*i)\n",
        "  else:\n",
        "    print(\" \"*(i-5)+\"*\"*(10-i))"
      ],
      "metadata": {
        "colab": {
          "base_uri": "https://localhost:8080/"
        },
        "id": "FTPo9fzEsgF5",
        "outputId": "10e951b3-d0b0-404f-93cb-3ccccb3172e3"
      },
      "execution_count": null,
      "outputs": [
        {
          "output_type": "stream",
          "name": "stdout",
          "text": [
            "    *\n",
            "   **\n",
            "  ***\n",
            " ****\n",
            "*****\n",
            " ****\n",
            "  ***\n",
            "   **\n",
            "    *\n"
          ]
        }
      ]
    },
    {
      "cell_type": "code",
      "source": [
        "a=\"12345\"\n",
        "for i in range(1,6):\n",
        "  print(\" \"*(5-i),a[:i])"
      ],
      "metadata": {
        "colab": {
          "base_uri": "https://localhost:8080/"
        },
        "id": "JhGK_yRYw3_o",
        "outputId": "1ab4b70a-84f7-4ae7-c7b1-4e6fdc83125d"
      },
      "execution_count": null,
      "outputs": [
        {
          "output_type": "stream",
          "name": "stdout",
          "text": [
            "     1\n",
            "    12\n",
            "   123\n",
            "  1234\n",
            " 12345\n"
          ]
        }
      ]
    },
    {
      "cell_type": "code",
      "source": [
        "a=1\n",
        "for i in range(1,6):\n",
        "  print(\" \"*(5-i),(a*a))\n",
        "  a=a*10+1"
      ],
      "metadata": {
        "colab": {
          "base_uri": "https://localhost:8080/"
        },
        "id": "UWDCKzJ5yAYM",
        "outputId": "5e3e40f3-be42-4e2a-f7ff-332cb131ef54"
      },
      "execution_count": null,
      "outputs": [
        {
          "output_type": "stream",
          "name": "stdout",
          "text": [
            "     1\n",
            "    121\n",
            "   12321\n",
            "  1234321\n",
            " 123454321\n"
          ]
        }
      ]
    },
    {
      "cell_type": "code",
      "source": [
        "a=1\n",
        "for i in range(1,6):\n",
        "  print(\" \"*(5-i),(a*a))\n",
        "  a=i*10+1"
      ],
      "metadata": {
        "colab": {
          "base_uri": "https://localhost:8080/"
        },
        "id": "aQ_v2a2K1XRz",
        "outputId": "374fd02d-e198-40f7-b53d-136d1f3aacfe"
      },
      "execution_count": null,
      "outputs": [
        {
          "output_type": "stream",
          "name": "stdout",
          "text": [
            "    1\n",
            "   22\n",
            "  63\n",
            " 124\n",
            " 205\n"
          ]
        }
      ]
    },
    {
      "cell_type": "code",
      "source": [
        "def sum(*t):\n",
        "  print(type(t))\n",
        "sum()"
      ],
      "metadata": {
        "id": "aWjPi2pS799M",
        "colab": {
          "base_uri": "https://localhost:8080/"
        },
        "outputId": "58dd741d-fce4-487a-ce0c-e1eb57eacbf8"
      },
      "execution_count": null,
      "outputs": [
        {
          "output_type": "stream",
          "name": "stdout",
          "text": [
            "<class 'tuple'>\n"
          ]
        }
      ]
    },
    {
      "cell_type": "code",
      "source": [
        "def sum(*t):\n",
        "  s=0\n",
        "  for i in t:\n",
        "    s+=i\n",
        "  print(s)\n",
        "sum(1,2)"
      ],
      "metadata": {
        "colab": {
          "base_uri": "https://localhost:8080/"
        },
        "id": "0yAkxNnpYV4u",
        "outputId": "047731b3-cfbf-4eb7-c235-6a17e4c3d526"
      },
      "execution_count": null,
      "outputs": [
        {
          "output_type": "stream",
          "name": "stdout",
          "text": [
            "3\n"
          ]
        }
      ]
    },
    {
      "cell_type": "code",
      "source": [
        "def oddeven(*t):\n",
        "  odd=0\n",
        "  even=0\n",
        "  for i in t:\n",
        "    if i%2==0:\n",
        "      even+=1\n",
        "    else:\n",
        "      odd+=1\n",
        "  print(\"odd\",odd)\n",
        "  print(\"even\",even)\n",
        "oddeven(1,2,3,4,5,6,7,8,9)\n",
        "\n"
      ],
      "metadata": {
        "colab": {
          "base_uri": "https://localhost:8080/"
        },
        "id": "G2EYRobfZlln",
        "outputId": "4594e312-d435-4864-9486-0c40d6527b23"
      },
      "execution_count": null,
      "outputs": [
        {
          "output_type": "stream",
          "name": "stdout",
          "text": [
            "odd 5\n",
            "even 4\n"
          ]
        }
      ]
    },
    {
      "cell_type": "code",
      "source": [
        "def factorial(*t):\n",
        "  for i in t:\n",
        "    f=1\n",
        "    for j in range(1,i+1):\n",
        "      f=f*j\n",
        "    print(f)\n",
        "factorial(1,2,3,4,5)\n"
      ],
      "metadata": {
        "colab": {
          "base_uri": "https://localhost:8080/"
        },
        "id": "yyhA_8HZbYa3",
        "outputId": "c6f30f72-ba5b-4072-b447-a9f7bbaccb1e"
      },
      "execution_count": null,
      "outputs": [
        {
          "output_type": "stream",
          "name": "stdout",
          "text": [
            "1\n",
            "2\n",
            "6\n",
            "24\n",
            "120\n"
          ]
        }
      ]
    },
    {
      "cell_type": "code",
      "source": [
        "t=()\n",
        "for i in range(5):\n",
        "  x=int(input())\n",
        "  t+=(x,)\n",
        "print(t)"
      ],
      "metadata": {
        "colab": {
          "base_uri": "https://localhost:8080/"
        },
        "id": "p7j5ZAwtfKmb",
        "outputId": "c8565b42-4559-4b55-c339-1cd0a8ce9865"
      },
      "execution_count": null,
      "outputs": [
        {
          "output_type": "stream",
          "name": "stdout",
          "text": [
            "12\n",
            "23\n",
            "09\n",
            "89\n",
            "06\n",
            "(12, 23, 9, 89, 6)\n"
          ]
        }
      ]
    },
    {
      "cell_type": "code",
      "source": [
        "[(x,y) for i in [1,2,3] for y in [3,1,4] if x!=y]"
      ],
      "metadata": {
        "colab": {
          "base_uri": "https://localhost:8080/"
        },
        "id": "tVF76S7cmDHb",
        "outputId": "d8737a22-2fa4-4676-a9a1-6aa6a38a7008"
      },
      "execution_count": null,
      "outputs": [
        {
          "output_type": "execute_result",
          "data": {
            "text/plain": [
              "[(6, 3), (6, 1), (6, 4), (6, 3), (6, 1), (6, 4), (6, 3), (6, 1), (6, 4)]"
            ]
          },
          "metadata": {},
          "execution_count": 22
        }
      ]
    },
    {
      "cell_type": "code",
      "source": [
        "list1 =[1,2,3,5,4,3,3,4,2]\n",
        "print(list(set(list1)))"
      ],
      "metadata": {
        "colab": {
          "base_uri": "https://localhost:8080/",
          "height": 158
        },
        "id": "3xkqa-7xpIcr",
        "outputId": "a74f072e-1188-4dcc-ca44-5b01c082f548"
      },
      "execution_count": null,
      "outputs": [
        {
          "output_type": "error",
          "ename": "TypeError",
          "evalue": "'list' object is not callable",
          "traceback": [
            "\u001b[0;31m---------------------------------------------------------------------------\u001b[0m",
            "\u001b[0;31mTypeError\u001b[0m                                 Traceback (most recent call last)",
            "\u001b[0;32m<ipython-input-27-801b2af31461>\u001b[0m in \u001b[0;36m<cell line: 2>\u001b[0;34m()\u001b[0m\n\u001b[1;32m      1\u001b[0m \u001b[0mlist1\u001b[0m \u001b[0;34m=\u001b[0m\u001b[0;34m[\u001b[0m\u001b[0;36m1\u001b[0m\u001b[0;34m,\u001b[0m\u001b[0;36m2\u001b[0m\u001b[0;34m,\u001b[0m\u001b[0;36m3\u001b[0m\u001b[0;34m,\u001b[0m\u001b[0;36m5\u001b[0m\u001b[0;34m,\u001b[0m\u001b[0;36m4\u001b[0m\u001b[0;34m,\u001b[0m\u001b[0;36m3\u001b[0m\u001b[0;34m,\u001b[0m\u001b[0;36m3\u001b[0m\u001b[0;34m,\u001b[0m\u001b[0;36m4\u001b[0m\u001b[0;34m,\u001b[0m\u001b[0;36m2\u001b[0m\u001b[0;34m]\u001b[0m\u001b[0;34m\u001b[0m\u001b[0;34m\u001b[0m\u001b[0m\n\u001b[0;32m----> 2\u001b[0;31m \u001b[0mprint\u001b[0m\u001b[0;34m(\u001b[0m\u001b[0mlist\u001b[0m\u001b[0;34m(\u001b[0m\u001b[0mset\u001b[0m\u001b[0;34m(\u001b[0m\u001b[0mlist1\u001b[0m\u001b[0;34m)\u001b[0m\u001b[0;34m)\u001b[0m\u001b[0;34m)\u001b[0m\u001b[0;34m\u001b[0m\u001b[0;34m\u001b[0m\u001b[0m\n\u001b[0m",
            "\u001b[0;31mTypeError\u001b[0m: 'list' object is not callable"
          ]
        }
      ]
    },
    {
      "cell_type": "code",
      "source": [
        "list1 =[1,2,3,5,4,3,3,4,2]\n",
        "print(list(set(list1)))"
      ],
      "metadata": {
        "colab": {
          "base_uri": "https://localhost:8080/",
          "height": 158
        },
        "id": "TCcN2ZL1tLsj",
        "outputId": "b13f6d65-7785-4b8e-eb07-a5c7659f0b68"
      },
      "execution_count": null,
      "outputs": [
        {
          "output_type": "error",
          "ename": "TypeError",
          "evalue": "'list' object is not callable",
          "traceback": [
            "\u001b[0;31m---------------------------------------------------------------------------\u001b[0m",
            "\u001b[0;31mTypeError\u001b[0m                                 Traceback (most recent call last)",
            "\u001b[0;32m<ipython-input-28-c6585f93f2c8>\u001b[0m in \u001b[0;36m<cell line: 2>\u001b[0;34m()\u001b[0m\n\u001b[1;32m      1\u001b[0m \u001b[0mlist1\u001b[0m \u001b[0;34m=\u001b[0m\u001b[0;34m[\u001b[0m\u001b[0;36m1\u001b[0m\u001b[0;34m,\u001b[0m\u001b[0;36m2\u001b[0m\u001b[0;34m,\u001b[0m\u001b[0;36m3\u001b[0m\u001b[0;34m,\u001b[0m\u001b[0;36m5\u001b[0m\u001b[0;34m,\u001b[0m\u001b[0;36m4\u001b[0m\u001b[0;34m,\u001b[0m\u001b[0;36m3\u001b[0m\u001b[0;34m,\u001b[0m\u001b[0;36m3\u001b[0m\u001b[0;34m,\u001b[0m\u001b[0;36m4\u001b[0m\u001b[0;34m,\u001b[0m\u001b[0;36m2\u001b[0m\u001b[0;34m]\u001b[0m\u001b[0;34m\u001b[0m\u001b[0;34m\u001b[0m\u001b[0m\n\u001b[0;32m----> 2\u001b[0;31m \u001b[0mprint\u001b[0m\u001b[0;34m(\u001b[0m\u001b[0mlist\u001b[0m\u001b[0;34m(\u001b[0m\u001b[0mset\u001b[0m\u001b[0;34m(\u001b[0m\u001b[0mlist1\u001b[0m\u001b[0;34m)\u001b[0m\u001b[0;34m)\u001b[0m\u001b[0;34m)\u001b[0m\u001b[0;34m\u001b[0m\u001b[0;34m\u001b[0m\u001b[0m\n\u001b[0m",
            "\u001b[0;31mTypeError\u001b[0m: 'list' object is not callable"
          ]
        }
      ]
    },
    {
      "cell_type": "code",
      "source": [
        "def remove(list1):\n",
        "  list2=[]\n",
        "  for i in list1:\n",
        "    if i not in list2:\n",
        "      list2.append(i)\n",
        "    return list2\n",
        "list1=[1,2,3,4,3,2,1]\n",
        "print(remove(list1))\n"
      ],
      "metadata": {
        "colab": {
          "base_uri": "https://localhost:8080/"
        },
        "id": "vAXXHrgbuTqK",
        "outputId": "1a15bd69-5e13-49da-abbc-c08aa93d91b3"
      },
      "execution_count": null,
      "outputs": [
        {
          "output_type": "stream",
          "name": "stdout",
          "text": [
            "[1]\n"
          ]
        }
      ]
    },
    {
      "cell_type": "code",
      "source": [
        "def highest3value(dict):\n",
        "  list1=[]\n",
        "  for i in dict.values():\n",
        "    list1.append(i)\n",
        "  list1.sort()\n",
        "  print(list1[-1])\n",
        "  print(list1[-2])\n",
        "  print(list1[-3])\n",
        "\n",
        "dict={\"a\":1,\"b\":2,\"c\":6,\"d\":4,\"e\":5}\n",
        "highest3value(dict)"
      ],
      "metadata": {
        "colab": {
          "base_uri": "https://localhost:8080/"
        },
        "id": "4HFjjgBhwl9X",
        "outputId": "9ae66780-2b8e-4c4e-b674-b3aa169cd927"
      },
      "execution_count": null,
      "outputs": [
        {
          "output_type": "stream",
          "name": "stdout",
          "text": [
            "6\n",
            "5\n",
            "4\n"
          ]
        }
      ]
    },
    {
      "cell_type": "code",
      "source": [
        "def reversetuple(t):\n",
        "  t1=()\n",
        "  for i in t[::-1]:\n",
        "    t1+=(i,)\n",
        "  print(t1)\n",
        "t=(1,2,3,4,5)\n",
        "reversetuple(t)\n"
      ],
      "metadata": {
        "colab": {
          "base_uri": "https://localhost:8080/"
        },
        "id": "1hhqePu-xU6A",
        "outputId": "0745aede-4c23-46ec-dcc4-38a2dd58e16d"
      },
      "execution_count": null,
      "outputs": [
        {
          "output_type": "stream",
          "name": "stdout",
          "text": [
            "(5, 4, 3, 2, 1)\n"
          ]
        }
      ]
    },
    {
      "cell_type": "code",
      "source": [
        "def Comprehensionfibonacci(t):\n",
        "  t1=()\n",
        "  for i in range(t):\n",
        "    if i==0 or i==1:\n",
        "      t1+=(i,)\n",
        "    else:\n",
        "      t1+=(t1[i-2]+t1[i-1],)\n",
        "  print(t1)\n",
        "Comprehensionfibonacci(10)"
      ],
      "metadata": {
        "colab": {
          "base_uri": "https://localhost:8080/"
        },
        "id": "gK7M0aFbzx9s",
        "outputId": "94385a1b-6738-4ad2-d97e-162c002a5c1e"
      },
      "execution_count": null,
      "outputs": [
        {
          "output_type": "stream",
          "name": "stdout",
          "text": [
            "(0, 1, 1, 2, 3, 5, 8, 13, 21, 34)\n"
          ]
        }
      ]
    },
    {
      "cell_type": "code",
      "source": [
        "a= [0,1]\n",
        "[a.append(a[-1]+a[-2]) for i in range(9)]\n",
        "print(a)"
      ],
      "metadata": {
        "colab": {
          "base_uri": "https://localhost:8080/"
        },
        "id": "dAgKwoUq2JJl",
        "outputId": "a19786a9-0bc3-4a28-b803-e3ae0a77dda5"
      },
      "execution_count": null,
      "outputs": [
        {
          "output_type": "stream",
          "name": "stdout",
          "text": [
            "[0, 1, 1, 2, 3, 5, 8, 13, 21, 34, 55]\n"
          ]
        }
      ]
    },
    {
      "cell_type": "code",
      "source": [
        "[i for i in range(1,11) if i%2!=0]\n"
      ],
      "metadata": {
        "id": "BREJeUEH2dD8",
        "colab": {
          "base_uri": "https://localhost:8080/"
        },
        "outputId": "58271f65-82d7-4274-8337-91c33d994466"
      },
      "execution_count": null,
      "outputs": [
        {
          "output_type": "execute_result",
          "data": {
            "text/plain": [
              "[1, 3, 5, 7, 9]"
            ]
          },
          "metadata": {},
          "execution_count": 11
        }
      ]
    },
    {
      "cell_type": "code",
      "source": [],
      "metadata": {
        "id": "0G_9TyO-qQgt"
      },
      "execution_count": null,
      "outputs": []
    }
  ]
}