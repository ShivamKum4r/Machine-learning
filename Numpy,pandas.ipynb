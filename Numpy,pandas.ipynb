{
  "nbformat": 4,
  "nbformat_minor": 0,
  "metadata": {
    "colab": {
      "provenance": [],
      "authorship_tag": "ABX9TyM85mw6EUqqIBlu9NSKX92I",
      "include_colab_link": true
    },
    "kernelspec": {
      "name": "python3",
      "display_name": "Python 3"
    },
    "language_info": {
      "name": "python"
    }
  },
  "cells": [
    {
      "cell_type": "markdown",
      "metadata": {
        "id": "view-in-github",
        "colab_type": "text"
      },
      "source": [
        "<a href=\"https://colab.research.google.com/github/ShivamKum4r/Machine-learning/blob/main/Numpy%2Cpandas.ipynb\" target=\"_parent\"><img src=\"https://colab.research.google.com/assets/colab-badge.svg\" alt=\"Open In Colab\"/></a>"
      ]
    },
    {
      "cell_type": "code",
      "execution_count": 1,
      "metadata": {
        "colab": {
          "base_uri": "https://localhost:8080/"
        },
        "id": "vOcrSXKXuoGA",
        "outputId": "886e66d9-108b-44ee-ba08-edb904b0e90b"
      },
      "outputs": [
        {
          "output_type": "stream",
          "name": "stdout",
          "text": [
            "[1 2 3]\n",
            "Array: [[1 2 3]\n",
            " [4 5 6]]\n",
            "Shape:  (2, 3)\n",
            "Size:  6\n",
            "Type:  int64\n",
            "Dimension:  2\n",
            "Arrange [ 1  3  5  7  9 11 13 15 17 19 21 23 25 27 29]\n",
            "Reshape [[ 1  3  5  7  9]\n",
            " [11 13 15 17 19]\n",
            " [21 23 25 27 29]]\n",
            "Linspace [0.  0.5 1.  1.5 2.  2.5 3.  3.5 4. ]\n",
            "Resize [[0.  0.5 1. ]\n",
            " [1.5 2.  2.5]\n",
            " [3.  3.5 4. ]]\n"
          ]
        }
      ],
      "source": [
        "import numpy as np\n",
        "x=np.array([1,2,3])\n",
        "print(x)\n",
        "m=np.array([[1,2,3],[4,5,6]])\n",
        "print(\"Array:\",m)\n",
        "print(\"Shape: \",m.shape)\n",
        "print(\"Size: \",m.size)\n",
        "print(\"Type: \",m.dtype)\n",
        "print(\"Dimension: \",m.ndim)\n",
        "n=np.arange(1,30,2)\n",
        "print(\"Arrange\",n)\n",
        "n=n.reshape(3,5)\n",
        "print(\"Reshape\",n)\n",
        "o=np.linspace(0,4,9)\n",
        "print(\"Linspace\",o)\n",
        "o.resize(3,3)\n",
        "print(\"Resize\",o)"
      ]
    },
    {
      "cell_type": "code",
      "source": [
        "np.ones((3,2),int)"
      ],
      "metadata": {
        "colab": {
          "base_uri": "https://localhost:8080/"
        },
        "id": "g9_yszxl4xe1",
        "outputId": "58e11f84-673c-4fd8-8e8d-79fbe7880635"
      },
      "execution_count": 2,
      "outputs": [
        {
          "output_type": "execute_result",
          "data": {
            "text/plain": [
              "array([[1, 1],\n",
              "       [1, 1],\n",
              "       [1, 1]])"
            ]
          },
          "metadata": {},
          "execution_count": 2
        }
      ]
    },
    {
      "cell_type": "code",
      "source": [
        "np.zeros((2,3),int)"
      ],
      "metadata": {
        "colab": {
          "base_uri": "https://localhost:8080/"
        },
        "id": "H0KHIIUj48_O",
        "outputId": "31c851f2-c425-4f19-d826-93d429421296"
      },
      "execution_count": null,
      "outputs": [
        {
          "output_type": "execute_result",
          "data": {
            "text/plain": [
              "array([[0, 0, 0],\n",
              "       [0, 0, 0]])"
            ]
          },
          "metadata": {},
          "execution_count": 52
        }
      ]
    },
    {
      "cell_type": "code",
      "source": [
        "np.eye(3)"
      ],
      "metadata": {
        "colab": {
          "base_uri": "https://localhost:8080/"
        },
        "id": "7UPdTcSW5FFI",
        "outputId": "a0adfca7-0db9-4d52-c648-117eacde6ed3"
      },
      "execution_count": null,
      "outputs": [
        {
          "output_type": "execute_result",
          "data": {
            "text/plain": [
              "array([[1., 0., 0., 0.],\n",
              "       [0., 1., 0., 0.],\n",
              "       [0., 0., 1., 0.]])"
            ]
          },
          "metadata": {},
          "execution_count": 57
        }
      ]
    },
    {
      "cell_type": "code",
      "source": [
        "np.eye(3,4)"
      ],
      "metadata": {
        "colab": {
          "base_uri": "https://localhost:8080/"
        },
        "id": "F5WzMMQ45JKm",
        "outputId": "bcae3421-3e00-442c-98b8-a5477f663160"
      },
      "execution_count": null,
      "outputs": [
        {
          "output_type": "execute_result",
          "data": {
            "text/plain": [
              "array([[1., 0., 0., 0.],\n",
              "       [0., 1., 0., 0.],\n",
              "       [0., 0., 1., 0.]])"
            ]
          },
          "metadata": {},
          "execution_count": 58
        }
      ]
    },
    {
      "cell_type": "code",
      "source": [
        "np.diag([1,2,3,4])"
      ],
      "metadata": {
        "colab": {
          "base_uri": "https://localhost:8080/"
        },
        "id": "Td97_TBs5auz",
        "outputId": "9e3de375-b69f-4fa1-9ae2-3731e72e36bd"
      },
      "execution_count": null,
      "outputs": [
        {
          "output_type": "execute_result",
          "data": {
            "text/plain": [
              "array([[1, 0, 0, 0],\n",
              "       [0, 2, 0, 0],\n",
              "       [0, 0, 3, 0],\n",
              "       [0, 0, 0, 4]])"
            ]
          },
          "metadata": {},
          "execution_count": 59
        }
      ]
    },
    {
      "cell_type": "code",
      "source": [
        "#array=([1,1,1,2,2,2,3,3,3])\n",
        "p=np.ones([2,3],int)\n",
        "p\n",
        "np.vstack([p,2*p])\n",
        "print(\"Vstack\",np.vstack([p,2*p]))\n",
        "np.hstack([p,2*p])\n",
        "print(\"Hstack\",np.hstack([p,2*p]))\n",
        "p.T\n",
        "print(\"Transpose\",p.T)\n",
        "p.astype('f')\n",
        "print(\"Astype\",p.astype('f'))\n"
      ],
      "metadata": {
        "colab": {
          "base_uri": "https://localhost:8080/"
        },
        "id": "a-HwEc_65ess",
        "outputId": "41cd75e6-58ea-4c2a-cc7a-2e19a1556a5d"
      },
      "execution_count": null,
      "outputs": [
        {
          "output_type": "stream",
          "name": "stdout",
          "text": [
            "Vstack [[1 1 1]\n",
            " [1 1 1]\n",
            " [2 2 2]\n",
            " [2 2 2]]\n",
            "Hstack [[1 1 1 2 2 2]\n",
            " [1 1 1 2 2 2]]\n",
            "Transpose [[1 1]\n",
            " [1 1]\n",
            " [1 1]]\n",
            "Astype [[1. 1. 1.]\n",
            " [1. 1. 1.]]\n"
          ]
        }
      ]
    },
    {
      "cell_type": "code",
      "source": [],
      "metadata": {
        "id": "tWIB4hx19_mR"
      },
      "execution_count": null,
      "outputs": []
    },
    {
      "cell_type": "code",
      "source": [
        "test=np.random.randint(0,10,(4,3))\n",
        "print(\"Array\",test)\n",
        "test=np.random.randint(0,10,5)\n",
        "print(\"Array\",test)\n"
      ],
      "metadata": {
        "colab": {
          "base_uri": "https://localhost:8080/"
        },
        "id": "UyZZEroZAXfr",
        "outputId": "2dc7ccf2-3380-4f37-e650-e7a920ccb0b9"
      },
      "execution_count": null,
      "outputs": [
        {
          "output_type": "stream",
          "name": "stdout",
          "text": [
            "Array [[3 1 4]\n",
            " [4 0 4]\n",
            " [8 5 8]\n",
            " [3 7 1]]\n",
            "Array [2 5 5 1 0]\n"
          ]
        }
      ]
    },
    {
      "cell_type": "code",
      "source": [
        "np.ones((3,3),bool)"
      ],
      "metadata": {
        "colab": {
          "base_uri": "https://localhost:8080/"
        },
        "id": "eUyKHOADE9r1",
        "outputId": "04fa5005-c793-4b22-9cbf-5823fc1eda7b"
      },
      "execution_count": null,
      "outputs": [
        {
          "output_type": "execute_result",
          "data": {
            "text/plain": [
              "array([[ True,  True,  True],\n",
              "       [ True,  True,  True],\n",
              "       [ True,  True,  True]])"
            ]
          },
          "metadata": {},
          "execution_count": 98
        }
      ]
    },
    {
      "cell_type": "code",
      "source": [
        "np.zeros((3,3),bool)"
      ],
      "metadata": {
        "colab": {
          "base_uri": "https://localhost:8080/"
        },
        "id": "zG_-aTyyFStV",
        "outputId": "607645f7-48c9-416b-da25-5e942b85f557"
      },
      "execution_count": null,
      "outputs": [
        {
          "output_type": "execute_result",
          "data": {
            "text/plain": [
              "array([[False, False, False],\n",
              "       [False, False, False],\n",
              "       [False, False, False]])"
            ]
          },
          "metadata": {},
          "execution_count": 99
        }
      ]
    },
    {
      "cell_type": "code",
      "source": [
        "m=np.array([[1,2,3],[4,5,6],[7,8,9]])\n",
        "m[m%2!=0]=-1\n",
        "print(m)"
      ],
      "metadata": {
        "colab": {
          "base_uri": "https://localhost:8080/"
        },
        "id": "9UgVA4_9G-TE",
        "outputId": "1dfbf865-dad9-4a1e-ff8e-6752d6fa104a"
      },
      "execution_count": null,
      "outputs": [
        {
          "output_type": "stream",
          "name": "stdout",
          "text": [
            "[[-1  2 -1]\n",
            " [ 4 -1  6]\n",
            " [-1  8 -1]]\n"
          ]
        }
      ]
    },
    {
      "cell_type": "code",
      "source": [
        "m=np.array([[1,2,3],[4,5,6],[7,8,9]])\n",
        "n=np.array([[1,11,12],[4,14,15],[16,9,18]])\n",
        "print(np.intersect1d(m,n))"
      ],
      "metadata": {
        "colab": {
          "base_uri": "https://localhost:8080/"
        },
        "id": "x9TaXVqwIdh0",
        "outputId": "d8040b9d-4c53-4d13-b62d-0cf690c83fef"
      },
      "execution_count": null,
      "outputs": [
        {
          "output_type": "stream",
          "name": "stdout",
          "text": [
            "[1 4 9]\n"
          ]
        }
      ]
    },
    {
      "cell_type": "code",
      "source": [
        "import pandas as pd\n",
        "sports={\n",
        "    'Archery':'Bhutan',\n",
        "    'Golf':'Scotland',\n",
        "    'Sumo':'Japan',\n",
        "    'Taekwondo':'South Korea'\n",
        "}\n",
        "s=pd.Series(sports)\n",
        "print(\"Series:\\n\",s)\n",
        "print(\"\\nvalues: \",s.values)\n",
        "print(\"\\nIndex: \",s.index)\n",
        "s=pd.Series(['tiger','bear','moose'],index=['India','America','Canada'])\n",
        "print(\"\\nnewseries: \",s)\n",
        "\n",
        "sports={\n",
        "    'Archery':'Bhutan',\n",
        "    'Golf':'Scotland',\n",
        "    'Sumo':'Japan',\n",
        "    'Taekwondo':'South Korea'\n",
        "}\n",
        "s=pd.Series(sports,index=['Golf','Sumo','Hockey'])\n",
        "print(\"\\nnewseries: \",s)\n",
        "\n"
      ],
      "metadata": {
        "id": "tJVvSVxpJNlI",
        "colab": {
          "base_uri": "https://localhost:8080/"
        },
        "outputId": "33e2ea1e-caf1-4ffd-d4f4-09877e27de87"
      },
      "execution_count": null,
      "outputs": [
        {
          "output_type": "stream",
          "name": "stdout",
          "text": [
            "Series:\n",
            " Archery           Bhutan\n",
            "Golf            Scotland\n",
            "Sumo               Japan\n",
            "Taekwondo    South Korea\n",
            "dtype: object\n",
            "\n",
            "values:  ['Bhutan' 'Scotland' 'Japan' 'South Korea']\n",
            "\n",
            "Index:  Index(['Archery', 'Golf', 'Sumo', 'Taekwondo'], dtype='object')\n",
            "\n",
            "newseries:  India      tiger\n",
            "America     bear\n",
            "Canada     moose\n",
            "dtype: object\n",
            "\n",
            "newseries:  Golf      Scotland\n",
            "Sumo         Japan\n",
            "Hockey         NaN\n",
            "dtype: object\n"
          ]
        }
      ]
    },
    {
      "cell_type": "code",
      "source": [
        "import pandas as pd\n",
        "s=pd.Series(np.random.randint(0,1000,10000))\n",
        "s.head()"
      ],
      "metadata": {
        "colab": {
          "base_uri": "https://localhost:8080/",
          "height": 241
        },
        "id": "rsGtYM9DoF5_",
        "outputId": "e0cdf185-9c88-46d1-89d5-3d9a66bc3259"
      },
      "execution_count": null,
      "outputs": [
        {
          "output_type": "execute_result",
          "data": {
            "text/plain": [
              "0    391\n",
              "1    604\n",
              "2     26\n",
              "3    433\n",
              "4    922\n",
              "dtype: int64"
            ],
            "text/html": [
              "<div>\n",
              "<style scoped>\n",
              "    .dataframe tbody tr th:only-of-type {\n",
              "        vertical-align: middle;\n",
              "    }\n",
              "\n",
              "    .dataframe tbody tr th {\n",
              "        vertical-align: top;\n",
              "    }\n",
              "\n",
              "    .dataframe thead th {\n",
              "        text-align: right;\n",
              "    }\n",
              "</style>\n",
              "<table border=\"1\" class=\"dataframe\">\n",
              "  <thead>\n",
              "    <tr style=\"text-align: right;\">\n",
              "      <th></th>\n",
              "      <th>0</th>\n",
              "    </tr>\n",
              "  </thead>\n",
              "  <tbody>\n",
              "    <tr>\n",
              "      <th>0</th>\n",
              "      <td>391</td>\n",
              "    </tr>\n",
              "    <tr>\n",
              "      <th>1</th>\n",
              "      <td>604</td>\n",
              "    </tr>\n",
              "    <tr>\n",
              "      <th>2</th>\n",
              "      <td>26</td>\n",
              "    </tr>\n",
              "    <tr>\n",
              "      <th>3</th>\n",
              "      <td>433</td>\n",
              "    </tr>\n",
              "    <tr>\n",
              "      <th>4</th>\n",
              "      <td>922</td>\n",
              "    </tr>\n",
              "  </tbody>\n",
              "</table>\n",
              "</div><br><label><b>dtype:</b> int64</label>"
            ]
          },
          "metadata": {},
          "execution_count": 6
        }
      ]
    },
    {
      "cell_type": "code",
      "source": [
        "import pandas as pd\n",
        "list=['s','h','i','v','a','m']\n",
        "s=pd.Series(list)\n",
        "print(\"Series in list:\\n\",s)\n",
        "\n",
        "dict={'a':3,'b':9,'c':27,'d':81}\n",
        "s=pd.Series(dict)\n",
        "print(\"\\nSeries in Dictionary:\\n\",s)"
      ],
      "metadata": {
        "colab": {
          "base_uri": "https://localhost:8080/"
        },
        "id": "BfndjwvbpGry",
        "outputId": "7e834120-98d5-4591-dbb3-7132f47849de"
      },
      "execution_count": null,
      "outputs": [
        {
          "output_type": "stream",
          "name": "stdout",
          "text": [
            "Series in list:\n",
            " 0    s\n",
            "1    h\n",
            "2    i\n",
            "3    v\n",
            "4    a\n",
            "5    m\n",
            "dtype: object\n",
            "\n",
            "Series in Dictionary:\n",
            " a     3\n",
            "b     9\n",
            "c    27\n",
            "d    81\n",
            "dtype: int64\n"
          ]
        }
      ]
    },
    {
      "cell_type": "code",
      "source": [
        "import numpy as np\n",
        "import pandas as pd\n",
        "mylist = list('abcedfghijklmnopqrstuvwxyz')\n",
        "myarr = np.arange(26)\n",
        "mydict = dict(zip(mylist, myarr))\n",
        "ser1 = pd.Series(mylist)\n",
        "ser2 = pd.Series(myarr)\n",
        "ser3 = pd.Series(mydict)\n",
        "#print(ser3.head())\n",
        "print(ser3.tail(5))"
      ],
      "metadata": {
        "colab": {
          "base_uri": "https://localhost:8080/"
        },
        "id": "EpAilNVquOlL",
        "outputId": "5366d156-6272-4fdf-9f4e-aafed40695f0"
      },
      "execution_count": null,
      "outputs": [
        {
          "output_type": "stream",
          "name": "stdout",
          "text": [
            "v    21\n",
            "w    22\n",
            "x    23\n",
            "y    24\n",
            "z    25\n",
            "dtype: int64\n"
          ]
        }
      ]
    },
    {
      "cell_type": "code",
      "source": [
        "ser1=pd.Series([1,2,3,4,5])\n",
        "ser2=pd.Series([4,5,6,7,8])\n",
        "ser1[~ser1.isin(ser2)]"
      ],
      "metadata": {
        "colab": {
          "base_uri": "https://localhost:8080/",
          "height": 178
        },
        "id": "6VRilxjmvj0V",
        "outputId": "063330fd-3e61-4b08-f9a5-e8ab254217bf"
      },
      "execution_count": null,
      "outputs": [
        {
          "output_type": "execute_result",
          "data": {
            "text/plain": [
              "0    1\n",
              "1    2\n",
              "2    3\n",
              "dtype: int64"
            ],
            "text/html": [
              "<div>\n",
              "<style scoped>\n",
              "    .dataframe tbody tr th:only-of-type {\n",
              "        vertical-align: middle;\n",
              "    }\n",
              "\n",
              "    .dataframe tbody tr th {\n",
              "        vertical-align: top;\n",
              "    }\n",
              "\n",
              "    .dataframe thead th {\n",
              "        text-align: right;\n",
              "    }\n",
              "</style>\n",
              "<table border=\"1\" class=\"dataframe\">\n",
              "  <thead>\n",
              "    <tr style=\"text-align: right;\">\n",
              "      <th></th>\n",
              "      <th>0</th>\n",
              "    </tr>\n",
              "  </thead>\n",
              "  <tbody>\n",
              "    <tr>\n",
              "      <th>0</th>\n",
              "      <td>1</td>\n",
              "    </tr>\n",
              "    <tr>\n",
              "      <th>1</th>\n",
              "      <td>2</td>\n",
              "    </tr>\n",
              "    <tr>\n",
              "      <th>2</th>\n",
              "      <td>3</td>\n",
              "    </tr>\n",
              "  </tbody>\n",
              "</table>\n",
              "</div><br><label><b>dtype:</b> int64</label>"
            ]
          },
          "metadata": {},
          "execution_count": 3
        }
      ]
    },
    {
      "cell_type": "code",
      "source": [
        "ser1=pd.Series([1,2,3,4,5])\n",
        "ser2=pd.Series([4,5,6,7,8])\n",
        "ser_u=pd.Series(np.union1d(ser1,ser2))\n",
        "ser_i=pd.Series(np.intersect1d(ser1,ser2))\n",
        "#ser_u[ser_u.isin(ser_i)]\n",
        "ser_u[~ser_u.isin(ser_i)]\n"
      ],
      "metadata": {
        "colab": {
          "base_uri": "https://localhost:8080/",
          "height": 147
        },
        "id": "2gHh9F16w-06",
        "outputId": "da99c942-add0-4ffe-9e6d-f9287689e7e6"
      },
      "execution_count": null,
      "outputs": [
        {
          "output_type": "execute_result",
          "data": {
            "text/plain": [
              "3    4\n",
              "4    5\n",
              "dtype: int64"
            ],
            "text/html": [
              "<div>\n",
              "<style scoped>\n",
              "    .dataframe tbody tr th:only-of-type {\n",
              "        vertical-align: middle;\n",
              "    }\n",
              "\n",
              "    .dataframe tbody tr th {\n",
              "        vertical-align: top;\n",
              "    }\n",
              "\n",
              "    .dataframe thead th {\n",
              "        text-align: right;\n",
              "    }\n",
              "</style>\n",
              "<table border=\"1\" class=\"dataframe\">\n",
              "  <thead>\n",
              "    <tr style=\"text-align: right;\">\n",
              "      <th></th>\n",
              "      <th>0</th>\n",
              "    </tr>\n",
              "  </thead>\n",
              "  <tbody>\n",
              "    <tr>\n",
              "      <th>3</th>\n",
              "      <td>4</td>\n",
              "    </tr>\n",
              "    <tr>\n",
              "      <th>4</th>\n",
              "      <td>5</td>\n",
              "    </tr>\n",
              "  </tbody>\n",
              "</table>\n",
              "</div><br><label><b>dtype:</b> int64</label>"
            ]
          },
          "metadata": {},
          "execution_count": 7
        }
      ]
    },
    {
      "cell_type": "code",
      "source": [
        "import pandas as pd\n",
        "purchase_1 = pd.Series({'Name': 'Chris',\n",
        "                        'Item Purchased': 'Dog Food',\n",
        "                        'Cost': 22.50})\n",
        "purchase_2 = pd.Series({'Name': 'Kevyn',\n",
        "                        'Item Purchased': 'Kitty Litter',\n",
        "                        'Cost': 2.50})\n",
        "purchase_3 = pd.Series({'Name': 'Vinod',\n",
        "                        'Item Purchased': 'Bird Seed',\n",
        "                        'Cost': 5.00})\n",
        "df=pd.DataFrame([purchase_1,purchase_2,purchase_3],index=['Store 1','Store 1','Store 2'])\n",
        "print(df)\n",
        "df2=df.to_csv('store.csv')\n",
        "print(\"\\n\",df.loc['Store 1'])\n",
        "print(\"\\n\",df.loc['Store 2'])\n",
        "print(\"\\n\",df[\"Name\"])\n",
        "print(\"\\n\",df.loc['Store 1','Cost'])\n",
        "print(\"\\n\",df.T)\n",
        "print(\"\\n\",df.loc[:,['Name','Cost']])\n",
        "print(\"\\n\",df.drop('Store 1'))"
      ],
      "metadata": {
        "colab": {
          "base_uri": "https://localhost:8080/"
        },
        "id": "1APGkxGAxuU-",
        "outputId": "07180c23-5f81-4bf2-bb15-9ed4f0df950d"
      },
      "execution_count": null,
      "outputs": [
        {
          "output_type": "stream",
          "name": "stdout",
          "text": [
            "          Name Item Purchased  Cost\n",
            "Store 1  Chris       Dog Food  22.5\n",
            "Store 1  Kevyn   Kitty Litter   2.5\n",
            "Store 2  Vinod      Bird Seed   5.0\n",
            "\n",
            "           Name Item Purchased  Cost\n",
            "Store 1  Chris       Dog Food  22.5\n",
            "Store 1  Kevyn   Kitty Litter   2.5\n",
            "\n",
            " Name                  Vinod\n",
            "Item Purchased    Bird Seed\n",
            "Cost                    5.0\n",
            "Name: Store 2, dtype: object\n",
            "\n",
            " Store 1    Chris\n",
            "Store 1    Kevyn\n",
            "Store 2    Vinod\n",
            "Name: Name, dtype: object\n",
            "\n",
            " Store 1    22.5\n",
            "Store 1     2.5\n",
            "Name: Cost, dtype: float64\n",
            "\n",
            "                  Store 1       Store 1    Store 2\n",
            "Name               Chris         Kevyn      Vinod\n",
            "Item Purchased  Dog Food  Kitty Litter  Bird Seed\n",
            "Cost                22.5           2.5        5.0\n",
            "\n",
            "           Name  Cost\n",
            "Store 1  Chris  22.5\n",
            "Store 1  Kevyn   2.5\n",
            "Store 2  Vinod   5.0\n",
            "\n",
            "           Name Item Purchased  Cost\n",
            "Store 2  Vinod      Bird Seed   5.0\n"
          ]
        }
      ]
    },
    {
      "cell_type": "code",
      "source": [
        "df.loc['Store 2']"
      ],
      "metadata": {
        "colab": {
          "base_uri": "https://localhost:8080/",
          "height": 178
        },
        "id": "QlBuZz_75cNB",
        "outputId": "98983f53-b55d-4214-c39a-c950ff684230"
      },
      "execution_count": null,
      "outputs": [
        {
          "output_type": "execute_result",
          "data": {
            "text/plain": [
              "Name                  Vinod\n",
              "Item Purchased    Bird Seed\n",
              "Cost                    5.0\n",
              "Name: Store 2, dtype: object"
            ],
            "text/html": [
              "<div>\n",
              "<style scoped>\n",
              "    .dataframe tbody tr th:only-of-type {\n",
              "        vertical-align: middle;\n",
              "    }\n",
              "\n",
              "    .dataframe tbody tr th {\n",
              "        vertical-align: top;\n",
              "    }\n",
              "\n",
              "    .dataframe thead th {\n",
              "        text-align: right;\n",
              "    }\n",
              "</style>\n",
              "<table border=\"1\" class=\"dataframe\">\n",
              "  <thead>\n",
              "    <tr style=\"text-align: right;\">\n",
              "      <th></th>\n",
              "      <th>Store 2</th>\n",
              "    </tr>\n",
              "  </thead>\n",
              "  <tbody>\n",
              "    <tr>\n",
              "      <th>Name</th>\n",
              "      <td>Vinod</td>\n",
              "    </tr>\n",
              "    <tr>\n",
              "      <th>Item Purchased</th>\n",
              "      <td>Bird Seed</td>\n",
              "    </tr>\n",
              "    <tr>\n",
              "      <th>Cost</th>\n",
              "      <td>5.0</td>\n",
              "    </tr>\n",
              "  </tbody>\n",
              "</table>\n",
              "</div><br><label><b>dtype:</b> object</label>"
            ]
          },
          "metadata": {},
          "execution_count": 59
        }
      ]
    },
    {
      "cell_type": "code",
      "source": [
        "df[\"Name\"]\n"
      ],
      "metadata": {
        "colab": {
          "base_uri": "https://localhost:8080/",
          "height": 178
        },
        "id": "ZSMXbCEE88Jf",
        "outputId": "c78bfdcd-10fb-4748-9bee-883e01973c8e"
      },
      "execution_count": null,
      "outputs": [
        {
          "output_type": "execute_result",
          "data": {
            "text/plain": [
              "Store 1    Chris\n",
              "Store 1    Kevyn\n",
              "Store 2    Vinod\n",
              "Name: Name, dtype: object"
            ],
            "text/html": [
              "<div>\n",
              "<style scoped>\n",
              "    .dataframe tbody tr th:only-of-type {\n",
              "        vertical-align: middle;\n",
              "    }\n",
              "\n",
              "    .dataframe tbody tr th {\n",
              "        vertical-align: top;\n",
              "    }\n",
              "\n",
              "    .dataframe thead th {\n",
              "        text-align: right;\n",
              "    }\n",
              "</style>\n",
              "<table border=\"1\" class=\"dataframe\">\n",
              "  <thead>\n",
              "    <tr style=\"text-align: right;\">\n",
              "      <th></th>\n",
              "      <th>Name</th>\n",
              "    </tr>\n",
              "  </thead>\n",
              "  <tbody>\n",
              "    <tr>\n",
              "      <th>Store 1</th>\n",
              "      <td>Chris</td>\n",
              "    </tr>\n",
              "    <tr>\n",
              "      <th>Store 1</th>\n",
              "      <td>Kevyn</td>\n",
              "    </tr>\n",
              "    <tr>\n",
              "      <th>Store 2</th>\n",
              "      <td>Vinod</td>\n",
              "    </tr>\n",
              "  </tbody>\n",
              "</table>\n",
              "</div><br><label><b>dtype:</b> object</label>"
            ]
          },
          "metadata": {},
          "execution_count": 60
        }
      ]
    },
    {
      "cell_type": "code",
      "source": [
        "df.loc['Store 1','Cost']\n"
      ],
      "metadata": {
        "colab": {
          "base_uri": "https://localhost:8080/",
          "height": 147
        },
        "id": "xGUm9_gO9GuJ",
        "outputId": "74067724-3b87-4507-e2a8-a1d1145455a3"
      },
      "execution_count": null,
      "outputs": [
        {
          "output_type": "execute_result",
          "data": {
            "text/plain": [
              "Store 1    22.5\n",
              "Store 1     2.5\n",
              "Name: Cost, dtype: float64"
            ],
            "text/html": [
              "<div>\n",
              "<style scoped>\n",
              "    .dataframe tbody tr th:only-of-type {\n",
              "        vertical-align: middle;\n",
              "    }\n",
              "\n",
              "    .dataframe tbody tr th {\n",
              "        vertical-align: top;\n",
              "    }\n",
              "\n",
              "    .dataframe thead th {\n",
              "        text-align: right;\n",
              "    }\n",
              "</style>\n",
              "<table border=\"1\" class=\"dataframe\">\n",
              "  <thead>\n",
              "    <tr style=\"text-align: right;\">\n",
              "      <th></th>\n",
              "      <th>Cost</th>\n",
              "    </tr>\n",
              "  </thead>\n",
              "  <tbody>\n",
              "    <tr>\n",
              "      <th>Store 1</th>\n",
              "      <td>22.5</td>\n",
              "    </tr>\n",
              "    <tr>\n",
              "      <th>Store 1</th>\n",
              "      <td>2.5</td>\n",
              "    </tr>\n",
              "  </tbody>\n",
              "</table>\n",
              "</div><br><label><b>dtype:</b> float64</label>"
            ]
          },
          "metadata": {},
          "execution_count": 61
        }
      ]
    },
    {
      "cell_type": "code",
      "source": [
        "import pandas as pd\n",
        "purchase_1 = pd.Series({'Name': 'Anuj Mehta',\n",
        "                        'Tickets': 5,\n",
        "                        'Amount': 1355})\n",
        "purchase_2 = pd.Series({'Name': 'Sandeep Oza',\n",
        "                        'Tickets': 2,\n",
        "                        'Amount': 1169})\n",
        "purchase_3 = pd.Series({'Name': 'Manvi Sharma',\n",
        "                        'Tickets': 6,\n",
        "                        'Amount': 1988})\n",
        "df=pd.DataFrame([purchase_1,purchase_2,purchase_3],index=['T0001','T0002','T0003'])\n",
        "print(df)"
      ],
      "metadata": {
        "colab": {
          "base_uri": "https://localhost:8080/"
        },
        "id": "V0RG8MrK-Orn",
        "outputId": "196c6a87-251f-4408-e244-b82bdde605bb"
      },
      "execution_count": null,
      "outputs": [
        {
          "output_type": "stream",
          "name": "stdout",
          "text": [
            "               Name  Tickets  Amount\n",
            "T0001    Anuj Mehta        5    1355\n",
            "T0002   Sandeep Oza        2    1169\n",
            "T0003  Manvi Sharma        6    1988\n"
          ]
        }
      ]
    },
    {
      "cell_type": "code",
      "source": [
        "import pandas as pd\n",
        "import numpy as np\n",
        "num_series = pd.Series(np.take(list('abcdefghij'), np.random.randint(10, size=20)))\n",
        "print(\"Original Series:\")\n",
        "print(num_series)\n",
        "print(\"Frequency of each unique value of the said series.\")\n",
        "result = num_series.value_counts()\n",
        "print(result)"
      ],
      "metadata": {
        "colab": {
          "base_uri": "https://localhost:8080/"
        },
        "id": "4m2Qu519q4W3",
        "outputId": "dca0f18a-d25c-4298-f9e5-9e11e3fb042e"
      },
      "execution_count": null,
      "outputs": [
        {
          "output_type": "stream",
          "name": "stdout",
          "text": [
            "Original Series:\n",
            "0     h\n",
            "1     d\n",
            "2     g\n",
            "3     c\n",
            "4     d\n",
            "5     j\n",
            "6     d\n",
            "7     d\n",
            "8     h\n",
            "9     e\n",
            "10    e\n",
            "11    a\n",
            "12    c\n",
            "13    e\n",
            "14    b\n",
            "15    f\n",
            "16    j\n",
            "17    b\n",
            "18    d\n",
            "19    b\n",
            "dtype: object\n",
            "Frequency of each unique value of the said series.\n",
            "d    5\n",
            "e    3\n",
            "b    3\n",
            "h    2\n",
            "c    2\n",
            "j    2\n",
            "g    1\n",
            "a    1\n",
            "f    1\n",
            "Name: count, dtype: int64\n"
          ]
        }
      ]
    },
    {
      "cell_type": "code",
      "source": [
        "import pandas as pd\n",
        "import numpy as np\n",
        "num_series = pd.Series(np.random.randint(1, 10, 10))\n",
        "print(\"Original Series:\")\n",
        "print(num_series)\n",
        "result = np.where(num_series % 5==0)\n",
        "print(\"Positions of numbers that are multiples of 5:\")\n",
        "print(result)"
      ],
      "metadata": {
        "colab": {
          "base_uri": "https://localhost:8080/"
        },
        "id": "0B45z-umqif6",
        "outputId": "b462e9e0-f634-4366-e00c-d3172656a369"
      },
      "execution_count": null,
      "outputs": [
        {
          "output_type": "stream",
          "name": "stdout",
          "text": [
            "Original Series:\n",
            "0    4\n",
            "1    5\n",
            "2    3\n",
            "3    5\n",
            "4    3\n",
            "5    4\n",
            "6    1\n",
            "7    2\n",
            "8    8\n",
            "9    5\n",
            "dtype: int64\n",
            "Positions of numbers that are multiples of 5:\n",
            "(array([1, 3, 9]),)\n"
          ]
        }
      ]
    },
    {
      "cell_type": "code",
      "source": [
        "import pandas as pd\n",
        "series1 = pd.Series([1, 2, 3, 4, 5, 6, 7, 8, 9, 10])\n",
        "series2 = pd.Series([1, 3, 5, 7, 10])\n",
        "print(\"Original Series1:\")\n",
        "print(series1)\n",
        "print (\"Original Series2:\")\n",
        "print(series2)\n",
        "result = [pd.Index(series1).get_loc(i) for i in series2]\n",
        "print(\"Positions of items of series2 in series1:\")\n",
        "print(result)"
      ],
      "metadata": {
        "colab": {
          "base_uri": "https://localhost:8080/"
        },
        "id": "EDVbRH1HrbAu",
        "outputId": "3c50765a-5af6-4316-a570-d70943e24692"
      },
      "execution_count": null,
      "outputs": [
        {
          "output_type": "stream",
          "name": "stdout",
          "text": [
            "Original Series1:\n",
            "0     1\n",
            "1     2\n",
            "2     3\n",
            "3     4\n",
            "4     5\n",
            "5     6\n",
            "6     7\n",
            "7     8\n",
            "8     9\n",
            "9    10\n",
            "dtype: int64\n",
            "Original Series2:\n",
            "0     1\n",
            "1     3\n",
            "2     5\n",
            "3     7\n",
            "4    10\n",
            "dtype: int64\n",
            "Positions of items of series2 in series1:\n",
            "[0, 2, 4, 6, 9]\n"
          ]
        }
      ]
    },
    {
      "cell_type": "markdown",
      "source": [],
      "metadata": {
        "id": "BC56n6J7rcgt"
      }
    },
    {
      "cell_type": "code",
      "source": [
        "import pandas as pd\n",
        "num_series = pd.Series(list('2390238923902390239023'))\n",
        "element_pos = [0, 2, 6, 11, 21]\n",
        "print(\"Original Series:\")\n",
        "print(num_series)\n",
        "result = num_series.take(element_pos)\n",
        "print(\"\\nExtract items at given positions of the said series:\")\n",
        "print(result)"
      ],
      "metadata": {
        "colab": {
          "base_uri": "https://localhost:8080/"
        },
        "id": "58A_ZqYiqjnX",
        "outputId": "27022115-6571-4158-9be4-aea1ab74f97f"
      },
      "execution_count": null,
      "outputs": [
        {
          "output_type": "stream",
          "name": "stdout",
          "text": [
            "Original Series:\n",
            "0     2\n",
            "1     3\n",
            "2     9\n",
            "3     0\n",
            "4     2\n",
            "5     3\n",
            "6     8\n",
            "7     9\n",
            "8     2\n",
            "9     3\n",
            "10    9\n",
            "11    0\n",
            "12    2\n",
            "13    3\n",
            "14    9\n",
            "15    0\n",
            "16    2\n",
            "17    3\n",
            "18    9\n",
            "19    0\n",
            "20    2\n",
            "21    3\n",
            "dtype: object\n",
            "\n",
            "Extract items at given positions of the said series:\n",
            "0     2\n",
            "2     9\n",
            "6     8\n",
            "11    0\n",
            "21    3\n",
            "dtype: object\n"
          ]
        }
      ]
    },
    {
      "cell_type": "code",
      "source": [],
      "metadata": {
        "id": "a1JYS6QDBWAF"
      },
      "execution_count": null,
      "outputs": []
    }
  ]
}